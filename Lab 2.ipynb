{
 "cells": [
  {
   "cell_type": "code",
   "execution_count": 1,
   "metadata": {},
   "outputs": [],
   "source": [
    "from scipy.constants import c, k, pi\n",
    "from numpy import sin, cos, arccos, sqrt, square, log10"
   ]
  },
  {
   "cell_type": "code",
   "execution_count": 2,
   "metadata": {},
   "outputs": [],
   "source": [
    "R_E = 6378e3 # m"
   ]
  },
  {
   "cell_type": "code",
   "execution_count": 3,
   "metadata": {},
   "outputs": [],
   "source": [
    "long_astra = 19.2\n",
    "lat_astra = 0\n",
    "long_chl = 11.9797\n",
    "lat_chl = 57.6878\n",
    "R_sat = 42164e3 # m\n",
    "\n",
    "EIRP = 51 # dBW\n",
    "f = 11.034e9 # Hz\n",
    "\n",
    "L_coax = 4.3133 # dB @ 11.034 GHz\n",
    "\n",
    "F_LNB = 0.3 # dB\n",
    "G_LNB = 55 # dB\n",
    "\n",
    "B = 33e6 # Hz\n",
    "\n",
    "L_wg = 0.4576 # dB\n",
    "L_atm = 0.2 # dB\n",
    "\n",
    "D = 2 * 0.78 # m\n",
    "eta = 0.6\n",
    "T_ant = 40 # K"
   ]
  },
  {
   "cell_type": "code",
   "execution_count": 4,
   "metadata": {},
   "outputs": [
    {
     "name": "stdout",
     "output_type": "stream",
     "text": [
      "Antenna noise = -137.39 dB\n"
     ]
    }
   ],
   "source": [
    "N_ant = 10*log10(k * T_ant * B)\n",
    "print(f'Antenna noise = {N_ant:.2f} dB')"
   ]
  },
  {
   "cell_type": "code",
   "execution_count": 5,
   "metadata": {},
   "outputs": [
    {
     "name": "stdout",
     "output_type": "stream",
     "text": [
      "delta = 1.01 rad = 57.97°\n",
      "s = 39156948 m = 39157 km\n"
     ]
    }
   ],
   "source": [
    "delta = arccos(cos(lat_chl * pi / 180) * cos((long_astra - long_chl) * pi / 180))\n",
    "print(f'delta = {delta:.2f} rad = {delta *180 / pi:.2f}°')\n",
    "\n",
    "h = R_sat - R_E\n",
    "# Distance between BS and satellite\n",
    "s = sqrt(square(h) + 4 * R_E * R_sat * square(sin(delta / 2)))\n",
    "print(f's = {s:.0f} m = {s / 1e3:.0f} km')"
   ]
  },
  {
   "cell_type": "code",
   "execution_count": 6,
   "metadata": {},
   "outputs": [],
   "source": [
    "L_FS = 20*log10(4 * pi * s * f / c) # dB\n",
    "G_rx = 10*log10(eta * square(pi * D * f / c)) # dB"
   ]
  },
  {
   "cell_type": "code",
   "execution_count": 7,
   "metadata": {},
   "outputs": [
    {
     "name": "stdout",
     "output_type": "stream",
     "text": [
      "C/N = 20.87 dB\n"
     ]
    }
   ],
   "source": [
    "# Carrier to noise ratio\n",
    "C_over_N = EIRP \\\n",
    "    - L_FS - L_atm \\\n",
    "    + G_rx - N_ant - F_LNB - L_coax - L_wg\n",
    "print(f'C/N = {C_over_N:.2f} dB')"
   ]
  }
 ],
 "metadata": {
  "kernelspec": {
   "display_name": "Python 3",
   "language": "python",
   "name": "python3"
  },
  "language_info": {
   "codemirror_mode": {
    "name": "ipython",
    "version": 3
   },
   "file_extension": ".py",
   "mimetype": "text/x-python",
   "name": "python",
   "nbconvert_exporter": "python",
   "pygments_lexer": "ipython3",
   "version": "3.8.5"
  }
 },
 "nbformat": 4,
 "nbformat_minor": 4
}
